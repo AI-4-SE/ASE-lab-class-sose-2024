{
 "cells": [
  {
   "cell_type": "code",
   "execution_count": null,
   "metadata": {
    "@deathbeds/jupyterlab-fonts": {
     "styles": {
      "": {
       "body[data-jp-deck-mode='presenting'] &": {
        "z-index": "5"
       }
      }
     }
    },
    "slideshow": {
     "slide_type": "skip"
    },
    "tags": []
   },
   "outputs": [],
   "source": [
    "import sys\n",
    "import platform"
   ]
  },
  {
   "cell_type": "markdown",
   "metadata": {
    "@deathbeds/jupyterlab-fonts": {
     "styles": {
      "": {
       "body[data-jp-deck-mode='presenting'] &": {
        "height": "2.2532695538932446%",
        "left": "18.645701232677496%",
        "position": "fixed",
        "top": "96.02853455243014%",
        "width": "68.00931860258498%"
       }
      }
     }
    },
    "jupyterlab-deck": {
     "layer": "deck"
    },
    "slideshow": {
     "slide_type": "skip"
    },
    "tags": []
   },
   "source": [
    "<div style='width:100%;height:2em;font-size:100%;'>    <div style='height:2em; float:left; margin:auto; margin-left:1em;'>Search-Based Software Engineering</div>    <img src='uni-leipzig.png' style='height:2em;float:left; margin:auto; margin-left:1em;'>   <img src='SOSY-Logo.png' style='height:2em;float:right; margin:auto; margin-left:1em;'>   <div style='height:2em; float:right; margin:auto; margin-left:1em;'> Johannes Dorn</div></div>"
   ]
  },
  {
   "cell_type": "markdown",
   "metadata": {
    "@deathbeds/jupyterlab-fonts": {
     "styles": {
      "": {
       "body[data-jp-deck-mode='presenting'] &": {
        "height": null,
        "left": null,
        "opacity": "100%",
        "position": null,
        "top": null,
        "width": null,
        "zoom": "500%"
       }
      }
     }
    },
    "slideshow": {
     "slide_type": "slide"
    },
    "tags": []
   },
   "source": [
    "# Search-Based Software Lab Class\n",
    "## Organization\n",
    "<center>\n",
    "    \n",
    "    Johannes Dorn (johannes.dorn@informatik.uni-leipzig.de)\n",
    "    \n",
    "    Softwaresysteme - Summer Term 2024\n",
    "    \n",
    "</center>\n",
    "<center>\n",
    "    <img src='uni-leipzig.png' style=\"height:5em\" >   <img src='SOSY-Logo.png' style=\"height:5em\">\n",
    "    \n",
    "</center>"
   ]
  },
  {
   "cell_type": "markdown",
   "metadata": {
    "slideshow": {
     "slide_type": "subslide"
    },
    "tags": []
   },
   "source": [
    "## Organization"
   ]
  },
  {
   "cell_type": "markdown",
   "metadata": {
    "slideshow": {
     "slide_type": "fragment"
    }
   },
   "source": [
    "- Discussion of exercise sheets\n",
    "- In between: use [Moodle ressources](https://moodle2.uni-leipzig.de/course/view.php?id=48562)\n",
    "- Groups of 2 ok"
   ]
  },
  {
   "cell_type": "markdown",
   "metadata": {
    "slideshow": {
     "slide_type": "subslide"
    }
   },
   "source": [
    "## Exercise dates for this semester\n",
    "\n",
    "Übungen mittwochs 09:15 Uhr und 11:15 Uhr\n",
    "\n",
    "Bearbeitungszeit 2 Wochen\n",
    "\n",
    "Geplante Termine:\n",
    "- Ü00 17.04. (1 Woche)\n",
    "- Ü01 24.04.\n",
    "- Ü02 08.05.\n",
    "- Ü03 22.05.\n",
    "- Ü04 05.06. (3 Wochen)\n",
    "- Ü05 26.06."
   ]
  },
  {
   "cell_type": "markdown",
   "metadata": {
    "slideshow": {
     "slide_type": "fragment"
    }
   },
   "source": [
    "### Übungsleiter\n",
    " - Johannes Dorn\n",
    " - Max Weber\n",
    " - Stefan Jahns"
   ]
  },
  {
   "cell_type": "markdown",
   "metadata": {
    "slideshow": {
     "slide_type": "slide"
    }
   },
   "source": [
    "## Tasks\n",
    "- Using Python"
   ]
  },
  {
   "cell_type": "code",
   "execution_count": null,
   "metadata": {
    "slideshow": {
     "slide_type": "fragment"
    },
    "tags": []
   },
   "outputs": [],
   "source": [
    "print(\"Python version:\", platform.python_version())"
   ]
  },
  {
   "cell_type": "markdown",
   "metadata": {
    "slideshow": {
     "slide_type": "fragment"
    }
   },
   "source": [
    "- No formal submission\n",
    "- Discussion in excercise"
   ]
  },
  {
   "cell_type": "markdown",
   "metadata": {
    "slideshow": {
     "slide_type": "slide"
    }
   },
   "source": [
    "## Setup - Get Python\n",
    "### Anaconda\n",
    "- get [Anaconda](https://anaconda.org/anaconda/python)\n",
    "- [Tutorial on Windows](https://medium.com/@GalarnykMichael/install-python-on-windows-anaconda-c63c7c3d1444)\n",
    "- [Tutorial on Ubuntu](https://www.digitalocean.com/community/tutorials/how-to-install-the-anaconda-python-distribution-on-ubuntu-16-04)\n",
    "\n",
    "\n",
    "### Python Standalone\n",
    "- Packaged:\n",
    "```\n",
    "sudo apt install python3 python3-pip\n",
    "```\n"
   ]
  },
  {
   "cell_type": "markdown",
   "metadata": {
    "slideshow": {
     "slide_type": "subslide"
    }
   },
   "source": [
    "## Setup - Install Libraries\n",
    "### Numpy \n",
    "pip:\n",
    "``` pip3 install numpy ```\n",
    "\n",
    "Anaconda: ``` conda install -c anaconda numpy ```"
   ]
  },
  {
   "cell_type": "markdown",
   "metadata": {
    "slideshow": {
     "slide_type": "fragment"
    }
   },
   "source": [
    "### Pandas\n",
    "pip: ``` pip3 install pandas ```\n",
    "\n",
    "Anaconda: ``` conda install -c anaconda pandas ```"
   ]
  },
  {
   "cell_type": "markdown",
   "metadata": {
    "slideshow": {
     "slide_type": "subslide"
    }
   },
   "source": [
    "## Setup - Environment\n",
    "### Jupyter\n",
    "pip: \n",
    "```\n",
    "pip3 install jupyter\n",
    "```\n",
    "Anaconda:\n",
    "```\n",
    "conda install -c anaconda jupyter\n",
    "```\n",
    "\n",
    "\n"
   ]
  },
  {
   "cell_type": "markdown",
   "metadata": {
    "slideshow": {
     "slide_type": "slide"
    }
   },
   "source": [
    "# Contact Info\n",
    "- Office: P624"
   ]
  },
  {
   "cell_type": "markdown",
   "metadata": {
    "slideshow": {
     "slide_type": "fragment"
    }
   },
   "source": [
    "- Via email (see [SWS Website](https://sws.informatik.uni-leipzig.de/team/))"
   ]
  },
  {
   "cell_type": "markdown",
   "metadata": {
    "slideshow": {
     "slide_type": "fragment"
    }
   },
   "source": [
    "- Course material [on moodle](https://moodle2.uni-leipzig.de/course/view.php?id=42306)"
   ]
  }
 ],
 "metadata": {
  "celltoolbar": "Slideshow",
  "kernelspec": {
   "display_name": "Python 3 (ipykernel)",
   "language": "python",
   "name": "python3"
  },
  "language_info": {
   "codemirror_mode": {
    "name": "ipython",
    "version": 3
   },
   "file_extension": ".py",
   "mimetype": "text/x-python",
   "name": "python",
   "nbconvert_exporter": "python",
   "pygments_lexer": "ipython3",
   "version": "3.11.9"
  },
  "rise": {
   "footer": "<div style='width:100%;height:2em;font-size:100%;'>    <div style='height:2em; float:left; margin:auto; margin-left:1em;'>Search-Based Software Engineering</div>    <img src='uni-leipzig.png' style='height:2em;float:left; margin:auto; margin-left:1em;'>   <img src='SOSY-Logo.png' style='height:2em;float:right; margin:auto; margin-left:1em;'>   <div style='height:2em; float:right; margin:auto; margin-left:1em;'> Johannes Dorn</div></div>"
  }
 },
 "nbformat": 4,
 "nbformat_minor": 4
}
